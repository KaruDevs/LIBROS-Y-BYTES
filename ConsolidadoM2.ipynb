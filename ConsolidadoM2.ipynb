{
  "nbformat": 4,
  "nbformat_minor": 0,
  "metadata": {
    "colab": {
      "provenance": [],
      "authorship_tag": "ABX9TyPRoegACg6B3zaaWBrR5+uM",
      "include_colab_link": true
    },
    "kernelspec": {
      "name": "python3",
      "display_name": "Python 3"
    },
    "language_info": {
      "name": "python"
    }
  },
  "cells": [
    {
      "cell_type": "markdown",
      "metadata": {
        "id": "view-in-github",
        "colab_type": "text"
      },
      "source": [
        "<a href=\"https://colab.research.google.com/github/KaruDevs/LIBROS-Y-BYTES/blob/main/ConsolidadoM2.ipynb\" target=\"_parent\"><img src=\"https://colab.research.google.com/assets/colab-badge.svg\" alt=\"Open In Colab\"/></a>"
      ]
    },
    {
      "cell_type": "code",
      "execution_count": null,
      "metadata": {
        "id": "RdcJIECXdeXb"
      },
      "outputs": [],
      "source": []
    },
    {
      "cell_type": "code",
      "metadata": {
        "id": "ea6b7f89"
      },
      "source": [
        "inventario_libros = [\n",
        "    {'titulo': 'Cien Años de Soledad', 'autor': 'Gabriel García Márquez', 'precio': 15.00, 'stock': 5},\n",
        "    {'titulo': 'Don Quijote de la Mancha', 'autor': 'Miguel de Cervantes', 'precio': 12.50, 'stock': 2},\n",
        "    {'titulo': 'La Sombra del Viento', 'autor': 'Carlos Ruiz Zafón', 'precio': 10.00, 'stock': 0},\n",
        "    {'titulo': 'Rayuela', 'autor': 'Julio Cortázar', 'precio': 14.00, 'stock': 3},\n",
        "    {'titulo': 'Ficciones', 'autor': 'Jorge Luis Borges', 'precio': 11.00, 'stock': 1}\n",
        "]"
      ],
      "execution_count": 1,
      "outputs": []
    },
    {
      "cell_type": "code",
      "metadata": {
        "colab": {
          "base_uri": "https://localhost:8080/"
        },
        "id": "8bb8f833",
        "outputId": "6793fd5c-7f66-4d45-e63d-770e0ea331de"
      },
      "source": [
        "def mostrar_libros_disponibles(inventario):\n",
        "    \"\"\"\n",
        "    Displays books with more than one unit in stock.\n",
        "\n",
        "    Args:\n",
        "        inventario: A list of dictionaries representing the book inventory.\n",
        "    \"\"\"\n",
        "    libros_disponibles = [libro for libro in inventario if libro['stock'] > 1]\n",
        "\n",
        "    if libros_disponibles:\n",
        "        print(\"Libros disponibles con más de una unidad en stock:\")\n",
        "        for libro in libros_disponibles:\n",
        "            print(f\"- {libro['titulo']} por {libro['autor']}\")\n",
        "    else:\n",
        "        print(\"No hay libros disponibles con más de una unidad en stock.\")\n",
        "\n",
        "mostrar_libros_disponibles(inventario_libros)"
      ],
      "execution_count": 2,
      "outputs": [
        {
          "output_type": "stream",
          "name": "stdout",
          "text": [
            "Libros disponibles con más de una unidad en stock:\n",
            "- Cien Años de Soledad por Gabriel García Márquez\n",
            "- Don Quijote de la Mancha por Miguel de Cervantes\n",
            "- Rayuela por Julio Cortázar\n"
          ]
        }
      ]
    },
    {
      "cell_type": "code",
      "metadata": {
        "colab": {
          "base_uri": "https://localhost:8080/",
          "height": 425
        },
        "id": "60bdb39f",
        "outputId": "87aee76c-2435-4910-eaed-f1d652219fc0"
      },
      "source": [
        "while True:\n",
        "    try:\n",
        "        min_price = float(input(\"Ingrese el precio mínimo para filtrar: \"))\n",
        "        max_price = float(input(\"Ingrese el precio máximo para filtrar: \"))\n",
        "        if min_price > max_price:\n",
        "            print(\"El precio mínimo no puede ser mayor que el precio máximo. Inténtelo de nuevo.\")\n",
        "            continue\n",
        "        break\n",
        "    except ValueError:\n",
        "        print(\"Entrada inválida. Por favor, ingrese números para los precios.\")\n",
        "\n",
        "libros_en_rango = [\n",
        "    libro for libro in inventario_libros\n",
        "    if min_price <= libro['precio'] <= max_price\n",
        "]\n",
        "\n",
        "if libros_en_rango:\n",
        "    print(f\"\\nLibros encontrados en el rango de precios de {min_price:.2f} a {max_price:.2f}:\")\n",
        "    for libro in libros_en_rango:\n",
        "        print(f\"- {libro['titulo']} por {libro['autor']} ({libro['precio']:.2f})\")\n",
        "else:\n",
        "    print(f\"\\nNo se encontraron libros en el rango de precios de {min_price:.2f} a {max_price:.2f}.\")"
      ],
      "execution_count": 3,
      "outputs": [
        {
          "output_type": "error",
          "ename": "KeyboardInterrupt",
          "evalue": "Interrupted by user",
          "traceback": [
            "\u001b[0;31m---------------------------------------------------------------------------\u001b[0m",
            "\u001b[0;31mKeyboardInterrupt\u001b[0m                         Traceback (most recent call last)",
            "\u001b[0;32m/tmp/ipython-input-1662102532.py\u001b[0m in \u001b[0;36m<cell line: 0>\u001b[0;34m()\u001b[0m\n\u001b[1;32m      1\u001b[0m \u001b[0;32mwhile\u001b[0m \u001b[0;32mTrue\u001b[0m\u001b[0;34m:\u001b[0m\u001b[0;34m\u001b[0m\u001b[0;34m\u001b[0m\u001b[0m\n\u001b[1;32m      2\u001b[0m     \u001b[0;32mtry\u001b[0m\u001b[0;34m:\u001b[0m\u001b[0;34m\u001b[0m\u001b[0;34m\u001b[0m\u001b[0m\n\u001b[0;32m----> 3\u001b[0;31m         \u001b[0mmin_price\u001b[0m \u001b[0;34m=\u001b[0m \u001b[0mfloat\u001b[0m\u001b[0;34m(\u001b[0m\u001b[0minput\u001b[0m\u001b[0;34m(\u001b[0m\u001b[0;34m\"Ingrese el precio mínimo para filtrar: \"\u001b[0m\u001b[0;34m)\u001b[0m\u001b[0;34m)\u001b[0m\u001b[0;34m\u001b[0m\u001b[0;34m\u001b[0m\u001b[0m\n\u001b[0m\u001b[1;32m      4\u001b[0m         \u001b[0mmax_price\u001b[0m \u001b[0;34m=\u001b[0m \u001b[0mfloat\u001b[0m\u001b[0;34m(\u001b[0m\u001b[0minput\u001b[0m\u001b[0;34m(\u001b[0m\u001b[0;34m\"Ingrese el precio máximo para filtrar: \"\u001b[0m\u001b[0;34m)\u001b[0m\u001b[0;34m)\u001b[0m\u001b[0;34m\u001b[0m\u001b[0;34m\u001b[0m\u001b[0m\n\u001b[1;32m      5\u001b[0m         \u001b[0;32mif\u001b[0m \u001b[0mmin_price\u001b[0m \u001b[0;34m>\u001b[0m \u001b[0mmax_price\u001b[0m\u001b[0;34m:\u001b[0m\u001b[0;34m\u001b[0m\u001b[0;34m\u001b[0m\u001b[0m\n",
            "\u001b[0;32m/usr/local/lib/python3.12/dist-packages/ipykernel/kernelbase.py\u001b[0m in \u001b[0;36mraw_input\u001b[0;34m(self, prompt)\u001b[0m\n\u001b[1;32m   1175\u001b[0m                 \u001b[0;34m\"raw_input was called, but this frontend does not support input requests.\"\u001b[0m\u001b[0;34m\u001b[0m\u001b[0;34m\u001b[0m\u001b[0m\n\u001b[1;32m   1176\u001b[0m             )\n\u001b[0;32m-> 1177\u001b[0;31m         return self._input_request(\n\u001b[0m\u001b[1;32m   1178\u001b[0m             \u001b[0mstr\u001b[0m\u001b[0;34m(\u001b[0m\u001b[0mprompt\u001b[0m\u001b[0;34m)\u001b[0m\u001b[0;34m,\u001b[0m\u001b[0;34m\u001b[0m\u001b[0;34m\u001b[0m\u001b[0m\n\u001b[1;32m   1179\u001b[0m             \u001b[0mself\u001b[0m\u001b[0;34m.\u001b[0m\u001b[0m_parent_ident\u001b[0m\u001b[0;34m[\u001b[0m\u001b[0;34m\"shell\"\u001b[0m\u001b[0;34m]\u001b[0m\u001b[0;34m,\u001b[0m\u001b[0;34m\u001b[0m\u001b[0;34m\u001b[0m\u001b[0m\n",
            "\u001b[0;32m/usr/local/lib/python3.12/dist-packages/ipykernel/kernelbase.py\u001b[0m in \u001b[0;36m_input_request\u001b[0;34m(self, prompt, ident, parent, password)\u001b[0m\n\u001b[1;32m   1217\u001b[0m             \u001b[0;32mexcept\u001b[0m \u001b[0mKeyboardInterrupt\u001b[0m\u001b[0;34m:\u001b[0m\u001b[0;34m\u001b[0m\u001b[0;34m\u001b[0m\u001b[0m\n\u001b[1;32m   1218\u001b[0m                 \u001b[0;31m# re-raise KeyboardInterrupt, to truncate traceback\u001b[0m\u001b[0;34m\u001b[0m\u001b[0;34m\u001b[0m\u001b[0m\n\u001b[0;32m-> 1219\u001b[0;31m                 \u001b[0;32mraise\u001b[0m \u001b[0mKeyboardInterrupt\u001b[0m\u001b[0;34m(\u001b[0m\u001b[0;34m\"Interrupted by user\"\u001b[0m\u001b[0;34m)\u001b[0m \u001b[0;32mfrom\u001b[0m \u001b[0;32mNone\u001b[0m\u001b[0;34m\u001b[0m\u001b[0;34m\u001b[0m\u001b[0m\n\u001b[0m\u001b[1;32m   1220\u001b[0m             \u001b[0;32mexcept\u001b[0m \u001b[0mException\u001b[0m\u001b[0;34m:\u001b[0m\u001b[0;34m\u001b[0m\u001b[0;34m\u001b[0m\u001b[0m\n\u001b[1;32m   1221\u001b[0m                 \u001b[0mself\u001b[0m\u001b[0;34m.\u001b[0m\u001b[0mlog\u001b[0m\u001b[0;34m.\u001b[0m\u001b[0mwarning\u001b[0m\u001b[0;34m(\u001b[0m\u001b[0;34m\"Invalid Message:\"\u001b[0m\u001b[0;34m,\u001b[0m \u001b[0mexc_info\u001b[0m\u001b[0;34m=\u001b[0m\u001b[0;32mTrue\u001b[0m\u001b[0;34m)\u001b[0m\u001b[0;34m\u001b[0m\u001b[0;34m\u001b[0m\u001b[0m\n",
            "\u001b[0;31mKeyboardInterrupt\u001b[0m: Interrupted by user"
          ]
        }
      ]
    },
    {
      "cell_type": "code",
      "metadata": {
        "id": "6e985481"
      },
      "source": [
        "# Diccionario para almacenar descuentos por autor\n",
        "descuentos_autores = {\n",
        "    \"Gabriel García Márquez\": 0.10,  # 10% de descuento para Gabriel García Márquez\n",
        "    \"Julio Cortázar\": 0.05  # 5% de descuento para Julio Cortázar\n",
        "    # Puedes añadir más autores y descuentos aquí\n",
        "}"
      ],
      "execution_count": 7,
      "outputs": []
    },
    {
      "cell_type": "code",
      "metadata": {
        "colab": {
          "base_uri": "https://localhost:8080/"
        },
        "id": "0fc3ab56",
        "outputId": "7ef5d584-2c39-4c07-a27b-40ea66150ec8"
      },
      "source": [
        "def mostrar_menu():\n",
        "    \"\"\"Displays the main menu options.\"\"\"\n",
        "    print(\"\\n--- Menú Principal ---\")\n",
        "    print(\"1. Mostrar libros disponibles (más de 1 en stock)\")\n",
        "    print(\"2. Filtrar libros por precio\")\n",
        "    print(\"3. Comprar libros\")\n",
        "    print(\"4. Salir\")\n",
        "\n",
        "while True:\n",
        "    mostrar_menu()\n",
        "    opcion = input(\"Seleccione una opción: \")\n",
        "\n",
        "    if opcion == '1':\n",
        "        mostrar_libros_disponibles(inventario_libros)\n",
        "    elif opcion == '2':\n",
        "        while True:\n",
        "            try:\n",
        "                min_price = float(input(\"Ingrese el precio mínimo para filtrar: \"))\n",
        "                max_price = float(input(\"Ingrese el precio máximo para filtrar: \"))\n",
        "                if min_price > max_price:\n",
        "                    print(\"El precio mínimo no puede ser mayor que el precio máximo. Inténtelo de nuevo.\")\n",
        "                    continue\n",
        "                break\n",
        "            except ValueError:\n",
        "                print(\"Entrada inválida. Por favor, ingrese números para los precios.\")\n",
        "\n",
        "        libros_en_rango = [\n",
        "            libro for libro in inventario_libros\n",
        "            if min_price <= libro['precio'] <= max_price\n",
        "        ]\n",
        "\n",
        "        if libros_en_rango:\n",
        "            print(f\"\\nLibros encontrados en el rango de precios de {min_price:.2f} a {max_price:.2f}:\")\n",
        "            for libro in libros_en_rango:\n",
        "                print(f\"- {libro['titulo']} por {libro['autor']} ({libro['precio']:.2f})\")\n",
        "        else:\n",
        "            print(f\"\\nNo se encontraron libros en el rango de precios de {min_price:.2f} a {max_price:.2f}.\")\n",
        "\n",
        "    elif opcion == '3':\n",
        "        titulo_compra = input(\"Ingrese el título del libro que desea comprar: \")\n",
        "        while True:\n",
        "            try:\n",
        "                cantidad_compra = int(input(\"Ingrese la cantidad que desea comprar: \"))\n",
        "                break\n",
        "            except ValueError:\n",
        "                print(\"Entrada inválida. Por favor, ingrese un número entero para la cantidad.\")\n",
        "        comprar_libros(titulo_compra, cantidad_compra, inventario_libros, descuentos_autores) # Pass the discounts dictionary\n",
        "\n",
        "    elif opcion == '4':\n",
        "        print(\"Saliendo del sistema. ¡Gracias por usar Libros & Bytes!\")\n",
        "        break\n",
        "    else:\n",
        "        print(\"Opción no válida. Por favor, seleccione una opción del menú.\")"
      ],
      "execution_count": null,
      "outputs": [
        {
          "output_type": "stream",
          "name": "stdout",
          "text": [
            "\n",
            "--- Menú Principal ---\n",
            "1. Mostrar libros disponibles (más de 1 en stock)\n",
            "2. Filtrar libros por precio\n",
            "3. Comprar libros\n",
            "4. Salir\n"
          ]
        }
      ]
    },
    {
      "cell_type": "code",
      "metadata": {
        "id": "1bb7c83a"
      },
      "source": [
        "def comprar_libros(titulo, cantidad, inventario, descuentos):\n",
        "    \"\"\"\n",
        "    Simulates the purchase of a book and applies discounts.\n",
        "\n",
        "    Args:\n",
        "        titulo: The title of the book to purchase.\n",
        "        cantidad: The quantity to purchase.\n",
        "        inventario: A list of dictionaries representing the book inventory.\n",
        "        descuentos: A dictionary with author names as keys and discount percentages as values.\n",
        "    \"\"\"\n",
        "    libro_encontrado = None\n",
        "    for libro in inventario:\n",
        "        if libro['titulo'].lower() == titulo.lower():\n",
        "            libro_encontrado = libro\n",
        "            break\n",
        "\n",
        "    if libro_encontrado:\n",
        "        if cantidad > 0:\n",
        "            if libro_encontrado['stock'] >= cantidad:\n",
        "                libro_encontrado['stock'] -= cantidad\n",
        "                precio_unitario = libro_encontrado['precio']\n",
        "                autor = libro_encontrado['autor']\n",
        "                descuento_aplicado = 0\n",
        "\n",
        "                if autor in descuentos:\n",
        "                    descuento_aplicado = descuentos[autor]\n",
        "                    precio_unitario *= (1 - descuento_aplicado)\n",
        "                    print(f\"¡Descuento aplicado! {descuento_aplicado*100:.0f}% de descuento para libros de {autor}.\")\n",
        "\n",
        "\n",
        "                total_compra = precio_unitario * cantidad\n",
        "                print(f\"¡Compra exitosa! Has comprado {cantidad} unidades de '{libro_encontrado['titulo']}'.\")\n",
        "                print(f\"El total de tu compra es: ${total_compra:.2f}\")\n",
        "            else:\n",
        "                print(f\"Lo siento, solo tenemos {libro_encontrado['stock']} unidades de '{libro_encontrado['titulo']}' en stock.\")\n",
        "        else:\n",
        "            print(\"La cantidad a comprar debe ser mayor que cero.\")\n",
        "    else:\n",
        "        print(f\"Lo siento, el libro '{titulo}' no se encuentra en nuestro inventario.\")\n",
        "\n",
        "# Example usage (you can remove or modify this later when integrating with the loop)\n",
        "# descuentos_ejemplo = {\"Gabriel García Márquez\": 0.10} # Example discounts dictionary\n",
        "# comprar_libros('Cien Años de Soledad', 1, inventario_libros, descuentos_ejemplo)\n",
        "# comprar_libros('La Sombra del Viento', 1, inventario_libros, descuentos_ejemplo)\n",
        "# comprar_libros('Libro Inexistente', 1, inventario_libros, descuentos_ejemplo)"
      ],
      "execution_count": 6,
      "outputs": []
    }
  ]
}